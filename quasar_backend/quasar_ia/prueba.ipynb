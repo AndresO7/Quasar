{
 "cells": [
  {
   "cell_type": "code",
   "execution_count": 1,
   "metadata": {},
   "outputs": [],
   "source": [
    "from langchain_openai import ChatOpenAI\n",
    "from langchain.chains import LLMChain, SimpleSequentialChain\n",
    "from langchain_community.chat_models import ChatOllama\n",
    "from langchain_core.output_parsers import StrOutputParser\n",
    "from langchain_core.prompts import ChatPromptTemplate\n",
    "from langchain.prompts import PromptTemplate\n",
    "import config\n",
    "import os\n",
    "os.environ['OPENAI_API_KEY'] = config.OPENAI_API_KEY"
   ]
  },
  {
   "cell_type": "code",
   "execution_count": 14,
   "metadata": {},
   "outputs": [
    {
     "name": "stderr",
     "output_type": "stream",
     "text": [
      "c:\\Users\\juanc\\AppData\\Local\\Programs\\Python\\Python311\\Lib\\site-packages\\langchain_core\\_api\\deprecation.py:139: LangChainDeprecationWarning: The class `LLMChain` was deprecated in LangChain 0.1.17 and will be removed in 0.3.0. Use RunnableSequence, e.g., `prompt | llm` instead.\n",
      "  warn_deprecated(\n"
     ]
    }
   ],
   "source": [
    "llm1 = ChatOpenAI(temperature=0, model= \"gpt-3.5-turbo\")\n",
    "prompt1 = PromptTemplate.from_template(\"Eres un programador experimentado ed python, Escribe una funcion que implemente el concepto de {item}\")\n",
    "chain1 = LLMChain(llm=llm1, prompt=prompt1)"
   ]
  },
  {
   "cell_type": "code",
   "execution_count": 15,
   "metadata": {},
   "outputs": [],
   "source": [
    "llm2 = ChatOllama(temperature=0,model=\"llama3:8b\")\n",
    "prompt2 = PromptTemplate.from_template(\"Dada la funcion de python {funcion} describela de la mejor manera \")\n",
    "chain2 = LLMChain(llm=llm2, prompt=prompt2)\n",
    "overall_chain = SimpleSequentialChain(chains=[chain1, chain2], verbose=True)"
   ]
  },
  {
   "cell_type": "code",
   "execution_count": 17,
   "metadata": {},
   "outputs": [
    {
     "name": "stdout",
     "output_type": "stream",
     "text": [
      "\n",
      "\n",
      "\u001b[1m> Entering new SimpleSequentialChain chain...\u001b[0m\n",
      "\u001b[36;1m\u001b[1;3mdef es_primo(num):\n",
      "    if num < 2:\n",
      "        return False\n",
      "    for i in range(2, int(num ** 0.5) + 1):\n",
      "        if num % i == 0:\n",
      "            return False\n",
      "    return True\n",
      "\n",
      "def obtener_primos(n):\n",
      "    primos = []\n",
      "    num = 2\n",
      "    while len(primos) < n:\n",
      "        if es_primo(num):\n",
      "            primos.append(num)\n",
      "        num += 1\n",
      "    return primos\n",
      "\n",
      "n = 10\n",
      "print(obtener_primos(n)) # Obtener los primeros 10 números primos\u001b[0m\n",
      "\u001b[33;1m\u001b[1;3mLa función `obtener_primos` tiene como objetivo encontrar y almacenar los primeros `n` números primos. Para lograr esto, utiliza una función auxiliar llamada `es_primo`, que determina si un número es primo o no.\n",
      "\n",
      "La función `es_primo` funciona de la siguiente manera:\n",
      "\n",
      "1. Si el número es menor que 2, devuelve `False`, ya que los números menores a 2 no son primos.\n",
      "2. Luego, itera desde 2 hasta la raíz cuadrada del número (redondeada hacia arriba) y verifica si el número es divisible por alguno de estos valores. Si lo es, devuelve `False`.\n",
      "3. Si el número no es divisible por ninguno de los valores iterados, devuelve `True`, lo que indica que el número es primo.\n",
      "\n",
      "La función `obtener_primos` utiliza esta función auxiliar para encontrar y almacenar los primeros `n` números primos:\n",
      "\n",
      "1. Inicializa una lista vacía llamada `primos`.\n",
      "2. Inicia un bucle que itera desde 2 hasta infinito (en realidad, hasta el límite deseado `n`).\n",
      "3. En cada iteración del bucle, verifica si el número actual es primo utilizando la función `es_primo`. Si lo es, agrega ese número a la lista `primos`.\n",
      "4. Repite este proceso hasta que la lista `primos` tenga exactamente `n` elementos.\n",
      "5. Devuelve la lista `primos`.\n",
      "\n",
      "En el ejemplo proporcionado, se llama a la función `obtener_primos` con el parámetro `n=10`, lo que significa que se buscarán los primeros 10 números primos. La salida será una lista de los números primos menores o iguales a 11 (ya que el número primo siguiente a 11 es 13, y no hay más de 10 primos en ese rango).\n",
      "\n",
      "La salida sería:\n",
      "```\n",
      "[2, 3, 5, 7, 11, 13, 17, 19, 23, 29]\n",
      "```\n",
      "Estos son los primeros 10 números primos.\u001b[0m\n",
      "\n",
      "\u001b[1m> Finished chain.\u001b[0m\n"
     ]
    }
   ],
   "source": [
    "output = overall_chain.invoke(\"obtener los primeros n numeros primos\")"
   ]
  }
 ],
 "metadata": {
  "kernelspec": {
   "display_name": "Python 3",
   "language": "python",
   "name": "python3"
  },
  "language_info": {
   "codemirror_mode": {
    "name": "ipython",
    "version": 3
   },
   "file_extension": ".py",
   "mimetype": "text/x-python",
   "name": "python",
   "nbconvert_exporter": "python",
   "pygments_lexer": "ipython3",
   "version": "3.11.7"
  }
 },
 "nbformat": 4,
 "nbformat_minor": 2
}
