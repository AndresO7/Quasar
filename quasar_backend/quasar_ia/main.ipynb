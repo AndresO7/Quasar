{
 "cells": [
  {
   "cell_type": "markdown",
   "metadata": {},
   "source": [
    "<img src=\"fondo.jpg\">"
   ]
  },
  {
   "cell_type": "markdown",
   "metadata": {},
   "source": [
    "# Quasar Alpha"
   ]
  },
  {
   "cell_type": "markdown",
   "metadata": {},
   "source": [
    "### Importaciones Lanchain"
   ]
  },
  {
   "cell_type": "code",
   "execution_count": null,
   "metadata": {},
   "outputs": [],
   "source": [
    "from langchain_community.chat_models import ChatOllama\n",
    "from langchain_community.chat_message_histories import ChatMessageHistory\n",
    "from langchain_core.chat_history import BaseChatMessageHistory\n",
    "from langchain_core.runnables.history import RunnableWithMessageHistory\n",
    "from langchain_core.output_parsers import StrOutputParser\n",
    "from langchain_core.prompts import ChatPromptTemplate, MessagesPlaceholder\n",
    "from langchain_core.messages import HumanMessage\n",
    "from openai import OpenAI\n",
    "from langchain_openai import ChatOpenAI"
   ]
  },
  {
   "cell_type": "markdown",
   "metadata": {},
   "source": [
    "#### Audio"
   ]
  },
  {
   "cell_type": "code",
   "execution_count": null,
   "metadata": {},
   "outputs": [],
   "source": [
    "from IPython.display import Audio, display"
   ]
  },
  {
   "cell_type": "markdown",
   "metadata": {},
   "source": [
    "### Llave OpenAI"
   ]
  },
  {
   "cell_type": "code",
   "execution_count": null,
   "metadata": {},
   "outputs": [],
   "source": [
    "client = OpenAI(api_key='')"
   ]
  },
  {
   "cell_type": "markdown",
   "metadata": {},
   "source": [
    "## Prompt para el programa"
   ]
  },
  {
   "cell_type": "code",
   "execution_count": null,
   "metadata": {},
   "outputs": [],
   "source": [
    "provider= \"Amazon Web Services (AWS)\"\n",
    "llm_ollama = ChatOllama(temperature=0, model=\"llama3:8b\")\n",
    "llm_gemma2 = ChatOllama(temperature=0, model=\"gemma2:latest\")\n",
    "llm_openai = ChatOpenAI(temperature=0, model= \"gpt-4o\", api_key='')\n",
    "\n",
    "prompt = ChatPromptTemplate.from_messages([\n",
    "    (\"system\",\n",
    "     \"\"\"Eres un chatbot, tu nombre es Quasar un especialista en devops, infrestructura en la nube, experto en Infrestructura como codigo con Terraform y un especialista en {provider}, sabes usar todos sus servicios para crear infrestructuras, te gusta guiar paso a paso al usuario que no tiene conocimiento de devops, asi que tu guias y le enseñas las mejores alternativas para que pueda llevar a cabo su proyecto, ademas el usuario mismo te dara la clave publica y privada.\n",
    "     Cuando el usuario esté satisfecho, genera SOLO el código Terraform necesario, sin comentarios ni explicaciones.\n",
    "Después de generar el código, crea una carpeta llamada 'terraform_project', \n",
    "un archivo 'main.tf' dentro de ella con el código, y ejecuta 'terraform init' y 'terraform plan'.\n",
    "#Contexto\n",
    "Quasar es un chatbot super amable y paciente, que pregunta cada detalle y es super explicativo para que asi los usuarios se sientan alegres de poder crear infresctructuras en la nube sin necesidad de saber nada, y tu depues de que el usuario este feliz le vas a proporcionar el codigo completo de terraform sin explicaciones, ni comentarios ni nada que no sea el codigo hasta que funcione y luego de que funcione y te agradezca si debes explicar lo que hiciste\n",
    "#Notas\n",
    "* Recuerda ser lo mas amigable, explicativa y detallada posible\n",
    "* Recuerda que cuando ya vayas a generar el codigo solo da el codigo sin comentarios ni explicaciones solo el codigo \n",
    "* Las repuestas de explicaciones o ayudas debe ser en español\n",
    "* Si el usuario no te pregunta algo acerca de temas que no tiene relacion con los temas que te mencione, respondele con que la tematica esta fuera del contecto\n",
    "* Haz preguntas para saber como puedes ayudarlo de mejor manera y asi no tener inconvenientes\n",
    "* No debes mencionarle nada acerca de terraform ya que internamente se creara la infrestructura con la ayuda de terraform\n",
    "* Recuerda cuando el usuario este contento y le parezca bien la idea unicamente genera el codigo de terraform y nada mas que eso, sin ningun tipo de explicacion, ningun texto, ningun comentario, unicamente da el codigo de terraform listo para usar\n",
    "* No tienes que usar IAM eso lo voy a poner yo mismo\n",
    "#Ejemplo de un codigo terraform\n",
    "* Ejemplo de una aplicacion sencilla de una instancia EC2, el usuario te tiene que dar la clave publica y la clave privada, recuerda cuando des el codigo, da unicamente el codigo sin mensajes ni comentarios, SOLO el codigo de terraform, reitero cuando des el codigo de terraform da solo el codigo nada mas que el codigo como esto, una vez que el usuario te haya dado la clave publica y privada no le digas Genial!, Bien o algun mensaje asi, solo dale el codigo de terraform ya que el usuario copiara todo el mensaje y si hay algo q no sea codigo no funcionara\n",
    "terraform {{\n",
    "  required_providers {{\n",
    "    aws = {{\n",
    "      source  = \"hashicorp/aws\"\n",
    "      version = \"~> 5.0\"\n",
    "    }}\n",
    "  }}\n",
    "}}\n",
    "provider \"aws\" {{\n",
    "  region     = \"us-west-1\"\n",
    "  access_key = \"clave_publica\"\n",
    "  secret_key = \"clave_privada\"\n",
    "}}\n",
    "resource \"aws_instance\" \"Ubuntu\" {{\n",
    "  ami           = \"ami-09d752e13fa8036d3\" \n",
    "  instance_type = \"t2.micro\"\n",
    "  tags = {{\n",
    "    Name = \"Ubuntu-example\"\n",
    "  }}\n",
    "}}\n",
    "\n",
    "\"\"\"\n",
    "     ),\n",
    "    MessagesPlaceholder(variable_name=\"messages\")\n",
    "])"
   ]
  },
  {
   "cell_type": "markdown",
   "metadata": {},
   "source": [
    "## Memoria para el Chatbot"
   ]
  },
  {
   "cell_type": "code",
   "execution_count": null,
   "metadata": {},
   "outputs": [],
   "source": [
    "memory = {}\n",
    "def get_session_history(session_id: str) -> BaseChatMessageHistory:\n",
    "    if session_id not in memory:\n",
    "        memory[session_id] = ChatMessageHistory()\n",
    "    return memory[session_id]"
   ]
  },
  {
   "cell_type": "markdown",
   "metadata": {},
   "source": [
    "### Cadena de langchain"
   ]
  },
  {
   "cell_type": "code",
   "execution_count": null,
   "metadata": {},
   "outputs": [],
   "source": [
    "chain = prompt | llm_openai\n",
    "with_message_history = RunnableWithMessageHistory(\n",
    "    chain,\n",
    "    get_session_history,\n",
    "    input_messages_key=\"messages\",\n",
    ")"
   ]
  },
  {
   "cell_type": "markdown",
   "metadata": {},
   "source": [
    "### Sesion de chat"
   ]
  },
  {
   "cell_type": "code",
   "execution_count": null,
   "metadata": {},
   "outputs": [],
   "source": [
    "configuracion = {\"configurable\": {\"session_id\": \"andres\"}}"
   ]
  },
  {
   "cell_type": "markdown",
   "metadata": {},
   "source": [
    "## Reconocimiento de audio (Multimodalidad)"
   ]
  },
  {
   "cell_type": "markdown",
   "metadata": {},
   "source": [
    "### Entrada del audio"
   ]
  },
  {
   "cell_type": "code",
   "execution_count": null,
   "metadata": {},
   "outputs": [],
   "source": [
    "#entrada de audio\n",
    "audio_input = 'C:/Users/juanc/OneDrive/Documentos/Universidad/Documentos Materias/Proyectos/Quasar/quasar_backend/input.mp3'\n",
    "#reproducir audio\n",
    "display(Audio(audio_input))"
   ]
  },
  {
   "cell_type": "markdown",
   "metadata": {},
   "source": [
    "### Transcripcion de audio a texto con Whisper"
   ]
  },
  {
   "cell_type": "code",
   "execution_count": null,
   "metadata": {},
   "outputs": [],
   "source": [
    "audio_file= open(\"C:/Users/juanc/OneDrive/Documentos/Universidad/Documentos Materias/Proyectos/Quasar/quasar_backend/input.mp3\", \"rb\")\n",
    "transcription = client.audio.transcriptions.create(\n",
    "  model=\"whisper-1\", \n",
    "  file=audio_file\n",
    ")\n",
    "prompt_input = transcription.text\n",
    "print(prompt_input)"
   ]
  },
  {
   "cell_type": "markdown",
   "metadata": {},
   "source": [
    "## Chatbot Quasar AI"
   ]
  },
  {
   "cell_type": "markdown",
   "metadata": {},
   "source": [
    "### Primer mensaje"
   ]
  },
  {
   "cell_type": "code",
   "execution_count": null,
   "metadata": {},
   "outputs": [],
   "source": [
    "\n",
    "response = with_message_history.invoke(\n",
    "            {\"messages\": [HumanMessage(content=prompt_input)], \"provider\": provider },\n",
    "            config=configuracion,\n",
    "        )\n",
    "response.content"
   ]
  },
  {
   "cell_type": "markdown",
   "metadata": {},
   "source": [
    "## De texto a audio con tts de OpenAI (Multimodalidad)"
   ]
  },
  {
   "cell_type": "code",
   "execution_count": null,
   "metadata": {},
   "outputs": [],
   "source": [
    "response = client.audio.speech.create(\n",
    "    model=\"tts-1\",\n",
    "    voice=\"nova\",\n",
    "    input=response.content,\n",
    ")\n",
    "\n",
    "response.stream_to_file(\"nova_output.mp3\")"
   ]
  },
  {
   "cell_type": "markdown",
   "metadata": {},
   "source": [
    "### Resultado "
   ]
  },
  {
   "cell_type": "code",
   "execution_count": null,
   "metadata": {},
   "outputs": [],
   "source": [
    "#salida de audio\n",
    "audio_output = 'C:/Users/juanc/OneDrive/Documentos/Universidad/Documentos Materias/Proyectos/Quasar/quasar_backend/nova_output.mp3'\n",
    "#reproducir audio\n",
    "display(Audio(audio_output))"
   ]
  },
  {
   "cell_type": "markdown",
   "metadata": {},
   "source": [
    "## Continuacion de la conversacion"
   ]
  },
  {
   "cell_type": "code",
   "execution_count": null,
   "metadata": {},
   "outputs": [],
   "source": [
    "response = with_message_history.invoke(\n",
    "            {\"messages\": [HumanMessage(content=\"creo que ubuntu estaria bien, y lo demas haz lo que veas conveniente\")], \"provider\": provider },\n",
    "            config=configuracion,\n",
    "        )\n",
    "response.content"
   ]
  },
  {
   "cell_type": "code",
   "execution_count": null,
   "metadata": {},
   "outputs": [],
   "source": [
    "response2 = client.audio.speech.create(\n",
    "    model=\"tts-1\",\n",
    "    voice=\"nova\",\n",
    "    input=response.content,\n",
    ")\n",
    "\n",
    "response2.stream_to_file(\"nova_output2.mp3\")\n",
    "#salida de audio\n",
    "audio_output2 = 'C:/Users/juanc/OneDrive/Documentos/Universidad/Documentos Materias/Proyectos/Quasar/quasar_backend/nova_output2.mp3'\n",
    "#reproducir audio\n",
    "display(Audio(audio_output2))"
   ]
  },
  {
   "cell_type": "markdown",
   "metadata": {},
   "source": [
    "### Paso de las claves de acceso"
   ]
  },
  {
   "cell_type": "code",
   "execution_count": null,
   "metadata": {},
   "outputs": [],
   "source": [
    "response = with_message_history.invoke(\n",
    "            {\"messages\": [HumanMessage(content=\"la clave publica es: ejemplo_clave y la privada es:ejemplo_clave\")], \"provider\": provider},\n",
    "            config=configuracion,\n",
    "        )\n",
    "response.content"
   ]
  },
  {
   "cell_type": "markdown",
   "metadata": {},
   "source": [
    "### Limpieza de respuesta"
   ]
  },
  {
   "cell_type": "code",
   "execution_count": null,
   "metadata": {},
   "outputs": [],
   "source": [
    "cleaned_hcl = response.content.replace(\"```hcl\\n\", \"\").replace(\"```\", \"\")\n",
    "\n",
    "# Replace \\n with actual newlines\n",
    "formatted_hcl = cleaned_hcl.replace(r\"\\n\", \"\\n\")\n",
    "\n",
    "print(formatted_hcl)"
   ]
  },
  {
   "cell_type": "markdown",
   "metadata": {},
   "source": [
    "## Uso y pulida del resultado del LLM "
   ]
  },
  {
   "cell_type": "code",
   "execution_count": null,
   "metadata": {},
   "outputs": [],
   "source": [
    "import os\n",
    "import subprocess"
   ]
  },
  {
   "cell_type": "markdown",
   "metadata": {},
   "source": [
    "### Creacion de la infrestructura en la nube con Amazon Web Services (AWS)"
   ]
  },
  {
   "cell_type": "code",
   "execution_count": null,
   "metadata": {},
   "outputs": [],
   "source": [
    "# Nombre de la carpeta\n",
    "folder_name = \"terraform_project\"\n",
    "\n",
    "# Crear la carpeta\n",
    "os.makedirs(folder_name, exist_ok=True)\n",
    "\n",
    "# Ruta del archivo main.tf\n",
    "file_path = os.path.join(folder_name, \"main.tf\")\n",
    "\n",
    "# Escribir el código en el archivo main.tf\n",
    "with open(file_path, \"w\") as file:\n",
    "    file.write(formatted_hcl)\n",
    "\n",
    "# Cambiar el directorio actual a la carpeta creada\n",
    "os.chdir(folder_name)\n",
    "\n",
    "# Ejecutar terraform init y mostrar la salida\n",
    "process = subprocess.Popen([\"terraform\", \"init\"], stdout=subprocess.PIPE, stderr=subprocess.PIPE, text=True)\n",
    "for line in process.stdout:\n",
    "    print(line, end=\"\")\n",
    "process.wait()\n",
    "\n",
    "# Ejecutar terraform plan y mostrar la salida\n",
    "process = subprocess.Popen([\"terraform\", \"plan\"], stdout=subprocess.PIPE, stderr=subprocess.PIPE, text=True)\n",
    "for line in process.stdout:\n",
    "    print(line, end=\"\")\n",
    "process.wait()"
   ]
  },
  {
   "cell_type": "markdown",
   "metadata": {},
   "source": [
    "### Ejecucion del codigo terraform"
   ]
  },
  {
   "cell_type": "code",
   "execution_count": null,
   "metadata": {},
   "outputs": [],
   "source": [
    "# Ejecutar terraform apply y mostrar la salida\n",
    "print(\"\\nExecuting terraform apply...\\n\")\n",
    "process_apply = subprocess.Popen([\"terraform\", \"apply\", \"-auto-approve\"], stdout=subprocess.PIPE, stderr=subprocess.PIPE, text=True)\n",
    "for line in process_apply.stdout:\n",
    "    print(line, end=\"\")\n",
    "process_apply.wait()"
   ]
  },
  {
   "cell_type": "markdown",
   "metadata": {},
   "source": [
    "<img src=\"aws_output.png\">"
   ]
  },
  {
   "cell_type": "markdown",
   "metadata": {},
   "source": [
    "### Eliminacion de la instancia"
   ]
  },
  {
   "cell_type": "code",
   "execution_count": null,
   "metadata": {},
   "outputs": [],
   "source": [
    "print(\"\\nExecuting terraform destroy...\\n\")\n",
    "process_destroy = subprocess.Popen([\"terraform\", \"destroy\", \"-auto-approve\"], stdout=subprocess.PIPE, stderr=subprocess.PIPE, text=True)\n",
    "for line in process_destroy.stdout:\n",
    "    print(line, end=\"\")\n",
    "process_destroy.wait()"
   ]
  }
 ],
 "metadata": {
  "kernelspec": {
   "display_name": "Python 3",
   "language": "python",
   "name": "python3"
  },
  "language_info": {
   "codemirror_mode": {
    "name": "ipython",
    "version": 3
   },
   "file_extension": ".py",
   "mimetype": "text/x-python",
   "name": "python",
   "nbconvert_exporter": "python",
   "pygments_lexer": "ipython3",
   "version": "3.11.7"
  }
 },
 "nbformat": 4,
 "nbformat_minor": 2
}
